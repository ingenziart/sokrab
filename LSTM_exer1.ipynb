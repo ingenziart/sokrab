{
  "nbformat": 4,
  "nbformat_minor": 0,
  "metadata": {
    "colab": {
      "provenance": [],
      "authorship_tag": "ABX9TyPZMnVvq0RqZbLVm8diRWt9",
      "include_colab_link": true
    },
    "kernelspec": {
      "name": "python3",
      "display_name": "Python 3"
    },
    "language_info": {
      "name": "python"
    }
  },
  "cells": [
    {
      "cell_type": "markdown",
      "metadata": {
        "id": "view-in-github",
        "colab_type": "text"
      },
      "source": [
        "<a href=\"https://colab.research.google.com/github/ingenziart/sokrab/blob/main/LSTM_exer1.ipynb\" target=\"_parent\"><img src=\"https://colab.research.google.com/assets/colab-badge.svg\" alt=\"Open In Colab\"/></a>"
      ]
    },
    {
      "cell_type": "code",
      "execution_count": 63,
      "metadata": {
        "id": "cOiX9isCTP7d"
      },
      "outputs": [],
      "source": [
        "#important libraly\n",
        "import tensorflow as tf\n",
        "from tensorflow.keras.models import Sequential\n",
        "from tensorflow.keras.layers import LSTM,Dense\n",
        "from tensorflow.keras.optimizers import Adam\n"
      ]
    },
    {
      "cell_type": "code",
      "source": [
        "# create dummy data\n",
        "import numpy as np\n",
        "\n",
        "x=np.random.random((100,10,5))\n",
        "y=np.random.randint(2,size=(100,1))"
      ],
      "metadata": {
        "id": "WqAa5MK_UMso"
      },
      "execution_count": 64,
      "outputs": []
    },
    {
      "cell_type": "code",
      "source": [
        "print(x.shape)"
      ],
      "metadata": {
        "colab": {
          "base_uri": "https://localhost:8080/"
        },
        "id": "N8h-f-4jXcEI",
        "outputId": "fcf344c5-639c-4762-af5a-141477202154"
      },
      "execution_count": 65,
      "outputs": [
        {
          "output_type": "stream",
          "name": "stdout",
          "text": [
            "(100, 10, 5)\n"
          ]
        }
      ]
    },
    {
      "cell_type": "code",
      "source": [
        "#model\n",
        "model=Sequential()\n",
        "\n",
        "model.add(LSTM(50,activation=\"tanh\",return_sequences=True,input_shape=(10,5))) #first input\n",
        "\n",
        "model.add(LSTM(30,activation=\"tanh\")) #second layer with 30 input\n",
        "\n",
        "model.add(Dense(1,activation=\"sigmoid\")) #output"
      ],
      "metadata": {
        "id": "jZr57rlpWkPf"
      },
      "execution_count": 66,
      "outputs": []
    },
    {
      "cell_type": "code",
      "source": [
        "#compile\n",
        "\n",
        "model.compile(optimizer=Adam(),loss=\"binary_crossentropy\",metrics=[\"accuracy\"])\n",
        "\n",
        "\n"
      ],
      "metadata": {
        "id": "NZHJsz91YyOu"
      },
      "execution_count": 67,
      "outputs": []
    },
    {
      "cell_type": "code",
      "source": [
        "#model.fit(x,y,epochs=5,batch_size=16)"
      ],
      "metadata": {
        "id": "zTwMSKQyZx7S"
      },
      "execution_count": 68,
      "outputs": []
    },
    {
      "cell_type": "code",
      "source": [
        "loss,acc=model.evaluate(x,y)\n",
        "print(acc)"
      ],
      "metadata": {
        "colab": {
          "base_uri": "https://localhost:8080/"
        },
        "id": "vEs_WtpzaTk-",
        "outputId": "063d9364-9861-499b-9398-4dd97767cc32"
      },
      "execution_count": 69,
      "outputs": [
        {
          "output_type": "stream",
          "name": "stdout",
          "text": [
            "\u001b[1m4/4\u001b[0m \u001b[32m━━━━━━━━━━━━━━━━━━━━\u001b[0m\u001b[37m\u001b[0m \u001b[1m1s\u001b[0m 11ms/step - accuracy: 0.5231 - loss: 0.6924 \n",
            "0.49000000953674316\n"
          ]
        }
      ]
    },
    {
      "cell_type": "markdown",
      "source": [
        "next IMDB DATA"
      ],
      "metadata": {
        "id": "tFOZLpeBcWZo"
      }
    },
    {
      "cell_type": "code",
      "source": [
        "from keras.datasets import imdb"
      ],
      "metadata": {
        "id": "PLSu-8ZPdAtP"
      },
      "execution_count": 70,
      "outputs": []
    },
    {
      "cell_type": "code",
      "source": [
        "max_features=10000\n",
        "maxlen=200\n",
        "(x_train,y_train),(x_test,y_test)=imdb.load_data()"
      ],
      "metadata": {
        "id": "4tgnKknNcSc_"
      },
      "execution_count": 71,
      "outputs": []
    },
    {
      "cell_type": "code",
      "source": [
        "print(x_train.shape,x_test.shape)"
      ],
      "metadata": {
        "colab": {
          "base_uri": "https://localhost:8080/"
        },
        "id": "gnvctPcRdP6k",
        "outputId": "edf4bf5a-d75f-4083-e1b0-9688f527c762"
      },
      "execution_count": 72,
      "outputs": [
        {
          "output_type": "stream",
          "name": "stdout",
          "text": [
            "(25000,) (25000,)\n"
          ]
        }
      ]
    },
    {
      "cell_type": "code",
      "source": [
        "print(y_train.shape,y_test.shape)"
      ],
      "metadata": {
        "colab": {
          "base_uri": "https://localhost:8080/"
        },
        "id": "_2_ceMjddbhC",
        "outputId": "d582e6db-68e9-478b-98b4-6bd08c091ef2"
      },
      "execution_count": 73,
      "outputs": [
        {
          "output_type": "stream",
          "name": "stdout",
          "text": [
            "(25000,) (25000,)\n"
          ]
        }
      ]
    },
    {
      "cell_type": "code",
      "source": [],
      "metadata": {
        "id": "51wLi4k1dxtl"
      },
      "execution_count": null,
      "outputs": []
    }
  ]
}