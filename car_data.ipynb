{
  "nbformat": 4,
  "nbformat_minor": 0,
  "metadata": {
    "colab": {
      "provenance": [],
      "authorship_tag": "ABX9TyN5ANTph1yr/w6sqnGS/m26",
      "include_colab_link": true
    },
    "kernelspec": {
      "name": "python3",
      "display_name": "Python 3"
    },
    "language_info": {
      "name": "python"
    }
  },
  "cells": [
    {
      "cell_type": "markdown",
      "metadata": {
        "id": "view-in-github",
        "colab_type": "text"
      },
      "source": [
        "<a href=\"https://colab.research.google.com/github/ingenziart/sokrab/blob/main/car_data.ipynb\" target=\"_parent\"><img src=\"https://colab.research.google.com/assets/colab-badge.svg\" alt=\"Open In Colab\"/></a>"
      ]
    },
    {
      "cell_type": "markdown",
      "source": [
        "#car analysis psudocode"
      ],
      "metadata": {
        "id": "-WJmfkWbSJII"
      }
    },
    {
      "cell_type": "code",
      "source": [
        "# import library\n",
        "import pandas as pd\n",
        "import matplotlib.pyplot as plt\n",
        "import seaborn as sns\n",
        "import numpy as np\n"
      ],
      "metadata": {
        "id": "PbarhsahSQRH"
      },
      "execution_count": 6,
      "outputs": []
    },
    {
      "cell_type": "code",
      "source": [
        "# export the datasets\n",
        "df=pd.read_csv(\"name_of_df.csv\")"
      ],
      "metadata": {
        "id": "eIHVJCChSuAS"
      },
      "execution_count": null,
      "outputs": []
    },
    {
      "cell_type": "code",
      "source": [
        "#read the five up rows\n",
        "df.head()"
      ],
      "metadata": {
        "id": "Z25lFu8gTKsD"
      },
      "execution_count": 5,
      "outputs": []
    },
    {
      "cell_type": "code",
      "source": [
        "#read the last five rows\n",
        "df.tail()"
      ],
      "metadata": {
        "id": "WAdRXdN9TfRV"
      },
      "execution_count": null,
      "outputs": []
    },
    {
      "cell_type": "code",
      "source": [
        "#check the type of the data\n",
        "df.dtypes\n",
        "df.info# both gives us the same result"
      ],
      "metadata": {
        "id": "74308esxTvlI"
      },
      "execution_count": null,
      "outputs": []
    },
    {
      "cell_type": "code",
      "source": [
        "# droping the irrerevant datas\n",
        "\n",
        "df=df.drop([\"irreravent datafame\"],axis=1)\n",
        "# axis= 1 is culumn while axis =0 is gona affect rows\n"
      ],
      "metadata": {
        "id": "Wzo51xE0T-1S"
      },
      "execution_count": null,
      "outputs": []
    },
    {
      "cell_type": "code",
      "source": [
        "#rename the culumns\n",
        "\n",
        "df=df.rename(columns={\"engen hp\":\"hp\",\"engne cyinder\":\"cylinder\"})\n"
      ],
      "metadata": {
        "id": "VdYEaStcVI0I"
      },
      "execution_count": null,
      "outputs": []
    },
    {
      "cell_type": "code",
      "source": [
        "#dupricate\n",
        "\n",
        "dupricate=df[df.duplicated()]\n",
        "print(dupricate)"
      ],
      "metadata": {
        "id": "xmpJ3NMGV4aX"
      },
      "execution_count": null,
      "outputs": []
    },
    {
      "cell_type": "code",
      "source": [
        "# removing duplictes\n",
        "df.drop_duplicates()"
      ],
      "metadata": {
        "id": "vzQ1e0yYXaCO"
      },
      "execution_count": null,
      "outputs": []
    },
    {
      "cell_type": "code",
      "source": [
        "# find null df\n",
        "df.isnull().sum()"
      ],
      "metadata": {
        "id": "RoejYkvMXkde"
      },
      "execution_count": null,
      "outputs": []
    },
    {
      "cell_type": "code",
      "source": [
        "# drop null value\n",
        "\n",
        "df=df.dropna()\n",
        "print(df)\n",
        "\n",
        "df[[\"\"]]=df[[\"\"]].replace(np.nan, \"unkonwn\")"
      ],
      "metadata": {
        "id": "GdEEM3bTX5wP"
      },
      "execution_count": null,
      "outputs": []
    },
    {
      "cell_type": "code",
      "source": [
        "# vizualize top 40 car\n",
        "df.make.value_counts().nlargest(40).plot(kind=\"bar\",figsize=(10,5))"
      ],
      "metadata": {
        "id": "UWzZESDRc2jy"
      },
      "execution_count": null,
      "outputs": []
    }
  ]
}