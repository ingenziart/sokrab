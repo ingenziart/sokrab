{
  "nbformat": 4,
  "nbformat_minor": 0,
  "metadata": {
    "colab": {
      "provenance": [],
      "authorship_tag": "ABX9TyOseBbRQqBxbNpAWN4xolvZ",
      "include_colab_link": true
    },
    "kernelspec": {
      "name": "python3",
      "display_name": "Python 3"
    },
    "language_info": {
      "name": "python"
    }
  },
  "cells": [
    {
      "cell_type": "markdown",
      "metadata": {
        "id": "view-in-github",
        "colab_type": "text"
      },
      "source": [
        "<a href=\"https://colab.research.google.com/github/ingenziart/sokrab/blob/main/intro_ai.ipynb\" target=\"_parent\"><img src=\"https://colab.research.google.com/assets/colab-badge.svg\" alt=\"Open In Colab\"/></a>"
      ]
    },
    {
      "cell_type": "code",
      "execution_count": null,
      "metadata": {
        "id": "-eYf5tqNE068"
      },
      "outputs": [],
      "source": []
    },
    {
      "cell_type": "markdown",
      "source": [
        "# **exprolatory data analysis** (eda)\n",
        "eda is the techinique to analyse datasets to find the main characterstics of data, spotting the anomalies and .., using descriptive statistics(mean,median,variance),visualize data (histogram, scatterplot, boxplot) and colleration analysis , and also impises on data distribution, missing values and relation ship between variables .\n",
        "\n",
        "\n"
      ],
      "metadata": {
        "id": "W_awEVc2FdEr"
      }
    },
    {
      "cell_type": "code",
      "source": [
        "# 1 import the library\n",
        "import pandas as pd\n",
        "import numpy as np\n",
        "#many libray as much as you are going to use ."
      ],
      "metadata": {
        "id": "hVH3YR_pKwCf"
      },
      "execution_count": null,
      "outputs": []
    },
    {
      "cell_type": "code",
      "source": [
        "# 2 read the data or roading the data\n",
        "\n",
        "datasets=pd.read_csv(\"name.csv\")\n"
      ],
      "metadata": {
        "id": "UElCspHZMP18"
      },
      "execution_count": null,
      "outputs": []
    },
    {
      "cell_type": "code",
      "source": [
        "# 3 this will output the five rows of colum's data\n",
        "datasets.head()\n"
      ],
      "metadata": {
        "id": "CgTvxDLfM7k3"
      },
      "execution_count": null,
      "outputs": []
    },
    {
      "cell_type": "code",
      "source": [
        "# 4 looking the shape of the data\n",
        "datasets.shape"
      ],
      "metadata": {
        "id": "ul_4QaXMNpDQ"
      },
      "execution_count": null,
      "outputs": []
    },
    {
      "cell_type": "code",
      "source": [
        "# 5 checking the missing values\n",
        "datasets.isnull().sum()\n",
        "\n",
        "# this will give us the table of the variables with null values ."
      ],
      "metadata": {
        "id": "GJuT6KUFOQNV"
      },
      "execution_count": null,
      "outputs": []
    },
    {
      "cell_type": "code",
      "source": [
        "datasets.info()"
      ],
      "metadata": {
        "id": "bVOSTEswQYr2"
      },
      "execution_count": null,
      "outputs": []
    },
    {
      "cell_type": "code",
      "source": [
        "# 6 unique values\n",
        "datasets.nunique()\n",
        "\n",
        "''' this unique values will display the number of in each culum if for example\n",
        "gender is (male,femele ) is going to be 2 '''\n",
        "\n",
        "\n",
        "# to diplay any colum\n",
        "\n",
        "check_col=[\"duration\",\"date_added\"]# which is the part of culum datasets\n",
        "\n",
        "for col in check_col:\n",
        "  uniques=datasets[col].unique()\n",
        "  print(\" \",col,\"\")\n",
        "  print(uniques)\n",
        "\n",
        "# this is the way to print out the specific column .\n",
        "\n",
        "\n",
        "\n"
      ],
      "metadata": {
        "id": "9Lv7EAAVQYGm"
      },
      "execution_count": null,
      "outputs": []
    },
    {
      "cell_type": "code",
      "source": [
        "#visualize the missing value using heatmap\n",
        "#1 plot.figure(fig.size=(19,7))\n",
        "#2 sns.heatmap"
      ],
      "metadata": {
        "id": "ZgFp5ernhkHo"
      },
      "execution_count": null,
      "outputs": []
    },
    {
      "cell_type": "code",
      "source": [
        "# 7 replace nan or missing values to unknown\n",
        "\n",
        "datasets[[\"director\",\"cast\",\"country\"]]=datasets[[\"director\",\"cast\",\"country\"]].replace(np.nan,\"UNKNOWN\")"
      ],
      "metadata": {
        "id": "eK6mjarLkwMl"
      },
      "execution_count": null,
      "outputs": []
    },
    {
      "cell_type": "code",
      "source": [
        "# 8 groub by rating\n",
        "datasets.groupby(by=\"rating\".count())\n",
        "\n",
        "#removing anomolous\n",
        "\n",
        "def anomolous_detection(frame):\n",
        "  if (min in str(frame[\"rating\"])):\n",
        "    frame[\"duration\"]=frame[\"rating\"]\n",
        "    frame[\"ratinng\"]=np.nan\n",
        "  return frame\n",
        "datasets=datasets.apply(anomolous_detection,axis=1)"
      ],
      "metadata": {
        "id": "M3oz2SyUqsNM"
      },
      "execution_count": null,
      "outputs": []
    },
    {
      "cell_type": "code",
      "source": [
        "datasets.groupby(by=\"rating\").count()"
      ],
      "metadata": {
        "id": "TxbkWq1KwMEo"
      },
      "execution_count": null,
      "outputs": []
    },
    {
      "cell_type": "code",
      "source": [
        "datasets.isnull().sum()"
      ],
      "metadata": {
        "id": "m274Yi9Lwjn2"
      },
      "execution_count": null,
      "outputs": []
    }
  ]
}